{
 "cells": [
  {
   "cell_type": "code",
   "execution_count": 5,
   "metadata": {},
   "outputs": [
    {
     "name": "stdout",
     "output_type": "stream",
     "text": [
      "total 8\n",
      "drwxr-xr-x   7 apicharthortiangtham  staff   224 Dec 28 16:03 .\n",
      "drwx------+ 40 apicharthortiangtham  staff  1280 Dec 28 15:24 ..\n",
      "drwxr-xr-x   3 apicharthortiangtham  staff    96 Dec 28 15:29 .ipynb_checkpoints\n",
      "-rw-r--r--   1 apicharthortiangtham  staff  1223 Dec 28 16:02 00_Import_Data.ipynb\n",
      "drwxr-xr-x   5 apicharthortiangtham  staff   160 Dec 28 16:03 data\n",
      "drwxr-xr-x   2 apicharthortiangtham  staff    64 Dec 28 16:03 models\n",
      "drwxr-xr-x   3 apicharthortiangtham  staff    96 Dec 28 16:03 reports\n"
     ]
    }
   ],
   "source": [
    "%%bash\n",
    "mkdir -p data/raw\n",
    "mkdir -p data/interim\n",
    "mkdir -p data/processed\n",
    "mkdir -p reports/figures\n",
    "mkdir -p models\n",
    "\n",
    "ls -all"
   ]
  },
  {
   "cell_type": "code",
   "execution_count": 7,
   "metadata": {},
   "outputs": [
    {
     "name": "stdout",
     "output_type": "stream",
     "text": [
      "total 722496\r\n",
      "-rw-r--r--@ 1 apicharthortiangtham  staff   340M Dec 28 16:08 zillow-prize-1.zip\r\n"
     ]
    }
   ],
   "source": [
    "!ls -lh data/raw"
   ]
  },
  {
   "cell_type": "code",
   "execution_count": 11,
   "metadata": {},
   "outputs": [
    {
     "name": "stdout",
     "output_type": "stream",
     "text": [
      "Archive:  data/raw/zillow-prize-1.zip\n",
      "  inflating: data/unzipped_data/properties_2016.csv  \n",
      "  inflating: data/unzipped_data/properties_2017.csv  \n",
      "  inflating: data/unzipped_data/sample_submission.csv  \n",
      "  inflating: data/unzipped_data/train_2016_v2.csv  \n",
      "  inflating: data/unzipped_data/train_2017.csv  \n",
      "  inflating: data/unzipped_data/zillow_data_dictionary.xlsx  \n"
     ]
    }
   ],
   "source": [
    "%%bash\n",
    "\n",
    "# make a directory called unzipped_data, deleting one if it exists\n",
    "rm -rf data/unzipped_data\n",
    "mkdir data/unzipped_data\n",
    "\n",
    "# unzip the raw data into a directory called unzipped_data\n",
    "unzip \"data/raw/*.zip\" -d data/unzipped_data\n",
    "\n",
    "# rename train_2016_v2.csv to train_2016.csv. there is no V1, so it's all the same to us\n",
    "mv data/unzipped_data/train_2016_v2.csv data/unzipped_data/train_2016.csv"
   ]
  },
  {
   "cell_type": "code",
   "execution_count": null,
   "metadata": {},
   "outputs": [],
   "source": []
  }
 ],
 "metadata": {
  "kernelspec": {
   "display_name": "Python 3",
   "language": "python",
   "name": "python3"
  },
  "language_info": {
   "codemirror_mode": {
    "name": "ipython",
    "version": 3
   },
   "file_extension": ".py",
   "mimetype": "text/x-python",
   "name": "python",
   "nbconvert_exporter": "python",
   "pygments_lexer": "ipython3",
   "version": "3.7.3"
  }
 },
 "nbformat": 4,
 "nbformat_minor": 2
}
